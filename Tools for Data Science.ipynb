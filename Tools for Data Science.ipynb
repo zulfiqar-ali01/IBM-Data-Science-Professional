{
 "cells": [
  {
   "cell_type": "markdown",
   "metadata": {},
   "source": [
    "<center>\n",
    "    <img src=\"https://cf-courses-data.s3.us.cloud-object-storage.appdomain.cloud/IBMDeveloperSkillsNetwork-DS0105EN-SkillsNetwork/labs/Module2/images/SN_web_lightmode.png\" width=\"300\" alt=\"cognitiveclass.ai logo\">\n",
    "</center>\n"
   ]
  },
  {
   "cell_type": "markdown",
   "metadata": {},
   "source": [
    "#### Add your code below following the instructions given in the course\n"
   ]
  },
  {
   "cell_type": "markdown",
   "metadata": {},
   "source": [
    "# Tools for Data Science"
   ]
  },
  {
   "cell_type": "markdown",
   "metadata": {},
   "source": [
    "## Introduction"
   ]
  },
  {
   "cell_type": "markdown",
   "metadata": {},
   "source": [
    "### Data Science Languages\n",
    "\n",
    "- Python  \n",
    "- R  \n",
    "- SQL  \n",
    "- Julia  \n",
    "- Scala  \n",
    "- Java  \n",
    "- MATLAB\n"
   ]
  },
  {
   "cell_type": "markdown",
   "metadata": {},
   "source": [
    "### Popular Data Science Libraries\n",
    "\n",
    "- **Python Libraries:**\n",
    "  - NumPy\n",
    "  - Pandas\n",
    "  - Matplotlib\n",
    "  - Seaborn\n",
    "  - Scikit-learn\n",
    "  - TensorFlow\n",
    "  - PyTorch\n",
    "\n",
    "- **R Libraries:**\n",
    "  - ggplot2\n",
    "  - dplyr\n",
    "  - caret\n",
    "  - tidyr\n",
    "  - randomForest\n",
    "\n",
    "- **General-Purpose:**\n",
    "  - Apache Spark\n",
    "  - H2O.ai\n"
   ]
  },
  {
   "cell_type": "markdown",
   "metadata": {},
   "source": [
    "### Data Science Tools\n",
    "\n",
    "| Tool Name        | Category             | Description                            |\n",
    "|------------------|----------------------|----------------------------------------|\n",
    "| Jupyter Notebook | Development Environment | Interactive coding and documentation |\n",
    "| RStudio          | IDE                  | IDE for R programming                  |\n",
    "| Apache Spark     | Big Data Processing  | Fast large-scale data processing       |\n",
    "| TensorFlow       | Machine Learning     | Deep learning framework by Google      |\n",
    "| Tableau          | Data Visualization   | Drag-and-drop visual analytics         |\n",
    "| Power BI         | Data Visualization   | Business intelligence and dashboards   |\n"
   ]
  },
  {
   "cell_type": "markdown",
   "metadata": {},
   "source": [
    "### Arithmetic Expression Examples\n",
    "\n",
    "Below are some basic arithmetic expressions used in programming and data science:\n",
    "\n",
    "- Addition: `5 + 3 = 8`\n",
    "- Subtraction: `10 - 4 = 6`\n",
    "- Multiplication: `6 * 2 = 12`\n",
    "- Division: `12 / 4 = 3`\n",
    "- Exponentiation: `2 ** 3 = 8`\n"
   ]
  },
  {
   "cell_type": "code",
   "execution_count": 2,
   "metadata": {},
   "outputs": [
    {
     "name": "stdout",
     "output_type": "stream",
     "text": [
      "Multiplication Result: 42\n",
      "Addition Result: 15\n"
     ]
    }
   ],
   "source": [
    "# Multiply two numbers\n",
    "product = 6 * 7\n",
    "\n",
    "# Add two numbers\n",
    "sum_result = 10 + 5\n",
    "\n",
    "# Display the results\n",
    "print(\"Multiplication Result:\", product)\n",
    "print(\"Addition Result:\", sum_result)\n"
   ]
  },
  {
   "cell_type": "code",
   "execution_count": 3,
   "metadata": {},
   "outputs": [
    {
     "name": "stdout",
     "output_type": "stream",
     "text": [
      "150 minutes is equal to 2.5 hours\n"
     ]
    }
   ],
   "source": [
    "# Given minutes\n",
    "minutes = 150\n",
    "\n",
    "# Convert minutes to hours\n",
    "hours = minutes / 60\n",
    "\n",
    "# Display the result\n",
    "print(f\"{minutes} minutes is equal to {hours} hours\")\n"
   ]
  },
  {
   "cell_type": "markdown",
   "metadata": {},
   "source": [
    "### Objectives\n",
    "\n",
    "- Understand the basics of Data Science and its applications  \n",
    "- Learn how to use Jupyter Notebooks for data analysis  \n",
    "- Explore popular programming languages used in Data Science  \n",
    "- Practice using Markdown and code cells effectively  \n",
    "- Perform basic arithmetic and data conversions in Python\n"
   ]
  },
  {
   "cell_type": "markdown",
   "metadata": {},
   "source": [
    "**Author:** Zulfiqar Ali\n"
   ]
  },
  {
   "cell_type": "code",
   "execution_count": null,
   "metadata": {},
   "outputs": [],
   "source": []
  }
 ],
 "metadata": {
  "kernelspec": {
   "display_name": "Python 3 (ipykernel)",
   "language": "python",
   "name": "python3"
  },
  "language_info": {
   "codemirror_mode": {
    "name": "ipython",
    "version": 3
   },
   "file_extension": ".py",
   "mimetype": "text/x-python",
   "name": "python",
   "nbconvert_exporter": "python",
   "pygments_lexer": "ipython3",
   "version": "3.12.8"
  }
 },
 "nbformat": 4,
 "nbformat_minor": 4
}
